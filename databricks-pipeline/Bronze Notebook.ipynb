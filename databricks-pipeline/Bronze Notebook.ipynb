{
 "cells": [
  {
   "cell_type": "code",
   "execution_count": 0,
   "metadata": {
    "application/vnd.databricks.v1+cell": {
     "cellMetadata": {
      "byteLimit": 2048000,
      "rowLimit": 10000
     },
     "inputWidgets": {},
     "nuid": "907aba71-1f2b-462d-8e7a-0bc27f14bb32",
     "showTitle": false,
     "tableResultSettingsMap": {},
     "title": ""
    }
   },
   "outputs": [
    {
     "output_type": "execute_result",
     "data": {
      "text/plain": [
       "[]"
      ]
     },
     "execution_count": 2,
     "metadata": {},
     "output_type": "execute_result"
    }
   ],
   "source": [
    "# Required each time the cluster is restarted which should be only on the first notebook as they run in order\n",
    "\n",
    "tiers = [\"bronze\", \"silver\", \"gold\"]\n",
    "adls_paths = {tier: f\"abfss://{tier}@rtyjkjhjytre456y.dfs.core.windows.net/\" for tier in tiers}\n",
    "\n",
    "# Accessing paths\n",
    "bronze_adls = adls_paths[\"bronze\"]\n",
    "silver_adls = adls_paths[\"silver\"]\n",
    "gold_adls = adls_paths[\"gold\"] \n",
    "\n",
    "dbutils.fs.ls(bronze_adls)\n",
    "dbutils.fs.ls(silver_adls)\n",
    "dbutils.fs.ls(gold_adls)"
   ]
  },
  {
   "cell_type": "code",
   "execution_count": 0,
   "metadata": {
    "application/vnd.databricks.v1+cell": {
     "cellMetadata": {
      "byteLimit": 2048000,
      "rowLimit": 10000
     },
     "inputWidgets": {},
     "nuid": "e4ad5762-acbf-4d33-a9dc-b4770141849c",
     "showTitle": false,
     "tableResultSettingsMap": {},
     "title": ""
    }
   },
   "outputs": [],
   "source": [
    "import requests\n",
    "import json\n",
    "from datetime import date, timedelta"
   ]
  },
  {
   "cell_type": "code",
   "execution_count": 0,
   "metadata": {
    "application/vnd.databricks.v1+cell": {
     "cellMetadata": {
      "byteLimit": 2048000,
      "rowLimit": 10000
     },
     "inputWidgets": {},
     "nuid": "9e364598-1ff5-4c00-8fae-08f54dac033c",
     "showTitle": false,
     "tableResultSettingsMap": {},
     "title": ""
    }
   },
   "outputs": [],
   "source": [
    "start_date = date.today() - timedelta(1)\n",
    "end_date = date.today()"
   ]
  },
  {
   "cell_type": "code",
   "execution_count": 0,
   "metadata": {
    "application/vnd.databricks.v1+cell": {
     "cellMetadata": {
      "byteLimit": 2048000,
      "rowLimit": 10000
     },
     "inputWidgets": {},
     "nuid": "f926e340-2180-4c7b-9a13-5f34115b1d57",
     "showTitle": false,
     "tableResultSettingsMap": {},
     "title": ""
    }
   },
   "outputs": [
    {
     "output_type": "stream",
     "name": "stdout",
     "output_type": "stream",
     "text": [
      "Wrote 286876 bytes.\nData successfully saved to abfss://bronze@rtyjkjhjytre456y.dfs.core.windows.net//2025-01-07_earthquake_data.json\n"
     ]
    }
   ],
   "source": [
    "# Construct the API URL with start and end dates provided by Data Factory, formatted for geojson output.\n",
    "url = f\"https://earthquake.usgs.gov/fdsnws/event/1/query?format=geojson&starttime={start_date}&endtime={end_date}\"\n",
    "\n",
    "try:\n",
    "    # Make the GET request to fetch data\n",
    "    response = requests.get(url)\n",
    "\n",
    "    # Check if the request was successful\n",
    "    response.raise_for_status()  # Raise HTTPError for bad responses (4xx or 5xx)\n",
    "    data = response.json().get('features', [])\n",
    "\n",
    "    if not data:\n",
    "        print(\"No data returned for the specified date range.\")\n",
    "    else:\n",
    "        # Specify the ADLS path\n",
    "        file_path = f\"{bronze_adls}/{start_date}_earthquake_data.json\"\n",
    "\n",
    "        # Save the JSON data\n",
    "        json_data = json.dumps(data, indent=4)\n",
    "        dbutils.fs.put(file_path, json_data, overwrite=True)\n",
    "        print(f\"Data successfully saved to {file_path}\")\n",
    "except requests.exceptions.RequestException as e:\n",
    "    print(f\"Error fetching data from API: {e}\")\n"
   ]
  },
  {
   "cell_type": "code",
   "execution_count": 0,
   "metadata": {
    "application/vnd.databricks.v1+cell": {
     "cellMetadata": {
      "byteLimit": 2048000,
      "rowLimit": 10000
     },
     "inputWidgets": {},
     "nuid": "0b6b8fef-1716-41bd-bf50-c48436086853",
     "showTitle": false,
     "tableResultSettingsMap": {},
     "title": ""
    }
   },
   "outputs": [
    {
     "output_type": "execute_result",
     "data": {
      "text/plain": [
       "{'type': 'Feature',\n",
       " 'properties': {'mag': 4.5,\n",
       "  'place': '19 km NNE of Metahāra, Ethiopia',\n",
       "  'time': 1736292406702,\n",
       "  'updated': 1736294300040,\n",
       "  'tz': None,\n",
       "  'url': 'https://earthquake.usgs.gov/earthquakes/eventpage/us6000pihl',\n",
       "  'detail': 'https://earthquake.usgs.gov/fdsnws/event/1/query?eventid=us6000pihl&format=geojson',\n",
       "  'felt': None,\n",
       "  'cdi': None,\n",
       "  'mmi': None,\n",
       "  'alert': None,\n",
       "  'status': 'reviewed',\n",
       "  'tsunami': 0,\n",
       "  'sig': 312,\n",
       "  'net': 'us',\n",
       "  'code': '6000pihl',\n",
       "  'ids': ',us6000pihl,',\n",
       "  'sources': ',us,',\n",
       "  'types': ',origin,phase-data,',\n",
       "  'nst': 18,\n",
       "  'dmin': 3.736,\n",
       "  'rms': 0.55,\n",
       "  'gap': 146,\n",
       "  'magType': 'mb',\n",
       "  'type': 'earthquake',\n",
       "  'title': 'M 4.5 - 19 km NNE of Metahāra, Ethiopia'},\n",
       " 'geometry': {'type': 'Point', 'coordinates': [39.9762, 9.0693, 9.256]},\n",
       " 'id': 'us6000pihl'}"
      ]
     },
     "execution_count": 8,
     "metadata": {},
     "output_type": "execute_result"
    }
   ],
   "source": [
    "data[0]"
   ]
  },
  {
   "cell_type": "code",
   "execution_count": 0,
   "metadata": {
    "application/vnd.databricks.v1+cell": {
     "cellMetadata": {},
     "inputWidgets": {},
     "nuid": "39015231-093f-4f9a-a207-94e15d95a9d5",
     "showTitle": false,
     "tableResultSettingsMap": {},
     "title": ""
    }
   },
   "outputs": [],
   "source": [
    "# Define your variables\n",
    "output_data = {\n",
    "    \"start_date\": start_date.isoformat(),\n",
    "    \"end_date\": end_date.isoformat(),\n",
    "    \"bronze_adls\": bronze_adls,\n",
    "    \"silver_adls\": silver_adls,\n",
    "    \"gold_adls\": gold_adls\n",
    "}\n",
    "\n",
    "# Return the dictionary directly\n",
    "dbutils.jobs.taskValues.set(key = \"bronze_output\", value = output_data)"
   ]
  }
 ],
 "metadata": {
  "application/vnd.databricks.v1+notebook": {
   "computePreferences": null,
   "dashboards": [],
   "environmentMetadata": {
    "base_environment": "",
    "client": "1"
   },
   "language": "python",
   "notebookMetadata": {
    "pythonIndentUnit": 4
   },
   "notebookName": "Bronze Notebook",
   "widgets": {}
  },
  "language_info": {
   "name": "python"
  }
 },
 "nbformat": 4,
 "nbformat_minor": 0
}
