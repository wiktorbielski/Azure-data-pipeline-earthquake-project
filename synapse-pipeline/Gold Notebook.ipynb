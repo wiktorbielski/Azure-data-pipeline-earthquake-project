{
  "cells": [
    {
      "cell_type": "code",
      "source": [
        "bronze_output = \"\"\n",
        "silver_data = \"\""
      ],
      "outputs": [
        {
          "output_type": "display_data",
          "data": {
            "application/vnd.livy.statement-meta+json": {
              "spark_pool": "synonly",
              "statement_id": 5,
              "statement_ids": [
                5
              ],
              "state": "finished",
              "livy_statement_state": "available",
              "spark_jobs": null,
              "session_id": "16",
              "normalized_state": "finished",
              "queued_time": "2025-01-12T10:57:46.175716Z",
              "session_start_time": null,
              "execution_start_time": "2025-01-12T10:57:46.3312517Z",
              "execution_finish_time": "2025-01-12T10:57:46.4855606Z",
              "parent_msg_id": "76343f50-b5ba-45f9-a89c-b0935b45def3"
            },
            "text/plain": "StatementMeta(synonly, 16, 5, Finished, Available, Finished)"
          },
          "metadata": {}
        }
      ],
      "execution_count": 4,
      "metadata": {
        "application/vnd.databricks.v1+cell": {
          "cellMetadata": {
            "byteLimit": 2048000,
            "rowLimit": 10000
          },
          "inputWidgets": {},
          "nuid": "6983d27b-7bda-45a1-b081-9d5550f7f80e",
          "showTitle": false,
          "tableResultSettingsMap": {},
          "title": ""
        },
        "tags": [
          "parameters"
        ]
      }
    },
    {
      "cell_type": "code",
      "source": [
        "import json\n",
        "\n",
        "# Parse the JSON string\n",
        "bronze_data = json.loads(bronze_params)\n",
        "\n",
        "# Access individual variables\n",
        "start_date = bronze_data.get(\"start_date\", \"\")\n",
        "silver_adls = bronze_data.get(\"silver_adls\", \"\")\n",
        "gold_adls = bronze_data.get(\"gold_adls\", \"\")"
      ],
      "outputs": [
        {
          "output_type": "display_data",
          "data": {
            "application/vnd.livy.statement-meta+json": {
              "spark_pool": "synonly",
              "statement_id": 6,
              "statement_ids": [
                6
              ],
              "state": "finished",
              "livy_statement_state": "available",
              "spark_jobs": null,
              "session_id": "16",
              "normalized_state": "finished",
              "queued_time": "2025-01-12T10:57:46.2016154Z",
              "session_start_time": null,
              "execution_start_time": "2025-01-12T10:57:46.6354708Z",
              "execution_finish_time": "2025-01-12T10:57:46.8271431Z",
              "parent_msg_id": "1c66809a-b2c6-4c40-9380-e1416d3f917c"
            },
            "text/plain": "StatementMeta(synonly, 16, 6, Finished, Available, Finished)"
          },
          "metadata": {}
        },
        {
          "output_type": "execute_result",
          "execution_count": 13,
          "data": {
            "text/plain": "' Data Factory\\n\\nimport json\\n\\n# Get base parameters\\ndbutils.widgets.text(\"bronze_params\", \"\")\\ndbutils.widgets.text(\"silver_params\", \"\")\\n\\nbronze_params = dbutils.widgets.get(\"bronze_params\")\\nsilver_params = dbutils.widgets.get(\"silver_params\")\\n\\n# Debug: Print the raw input values for troubleshooting\\nprint(f\"Raw bronze_params: {bronze_params}\")\\nprint(f\"Raw silver_params: {silver_params}\")\\n\\n# Parse the JSON string\\nbronze_data = json.loads(bronze_params)\\n\\n# Access individual variables\\nstart_date = bronze_data.get(\"start_date\", \"\")\\nend_date = bronze_data.get(\"end_date\", \"\")\\nsilver_adls = bronze_data.get(\"silver_adls\", \"\")\\ngold_adls = bronze_data.get(\"gold_adls\", \"\")\\nsilver_data = silver_params\\n\\n# Debug: Print the extracted values for verification\\nprint(f\"Start Date: {start_date}, End Date: {end_date}\")\\nprint(f\"Silver ADLS Path: {silver_adls}, Gold ADLS Path: {gold_adls}\")\\n'"
          },
          "metadata": {}
        }
      ],
      "execution_count": 5,
      "metadata": {
        "application/vnd.databricks.v1+cell": {
          "cellMetadata": {
            "byteLimit": 2048000,
            "rowLimit": 10000
          },
          "inputWidgets": {},
          "nuid": "e91fb293-6bb6-467e-8c4f-ce2d7bc7ec39",
          "showTitle": false,
          "tableResultSettingsMap": {},
          "title": ""
        }
      }
    },
    {
      "cell_type": "code",
      "source": [
        "from pyspark.sql.functions import when, col, udf\n",
        "from pyspark.sql.types import StringType\n",
        "# Ensure the below library is installed on your cluster\n",
        "import reverse_geocoder as rg\n",
        "from datetime import date, timedelta"
      ],
      "outputs": [
        {
          "output_type": "display_data",
          "data": {
            "application/vnd.livy.statement-meta+json": {
              "spark_pool": "synonly",
              "statement_id": 7,
              "statement_ids": [
                7
              ],
              "state": "finished",
              "livy_statement_state": "available",
              "spark_jobs": null,
              "session_id": "16",
              "normalized_state": "finished",
              "queued_time": "2025-01-12T10:57:46.241385Z",
              "session_start_time": null,
              "execution_start_time": "2025-01-12T10:57:46.9667298Z",
              "execution_finish_time": "2025-01-12T10:57:47.1128453Z",
              "parent_msg_id": "6b7d528f-3f42-438c-9fe4-8cbfebfe3ff8"
            },
            "text/plain": "StatementMeta(synonly, 16, 7, Finished, Available, Finished)"
          },
          "metadata": {}
        },
        {
          "output_type": "error",
          "ename": "ModuleNotFoundError",
          "evalue": "No module named 'reverse_geocoder'",
          "traceback": [
            "\u001b[0;31m---------------------------------------------------------------------------\u001b[0m",
            "\u001b[0;31mModuleNotFoundError\u001b[0m                       Traceback (most recent call last)",
            "Cell \u001b[0;32mIn[15], line 4\u001b[0m\n\u001b[1;32m      2\u001b[0m \u001b[38;5;28;01mfrom\u001b[39;00m \u001b[38;5;21;01mpyspark\u001b[39;00m\u001b[38;5;21;01m.\u001b[39;00m\u001b[38;5;21;01msql\u001b[39;00m\u001b[38;5;21;01m.\u001b[39;00m\u001b[38;5;21;01mtypes\u001b[39;00m \u001b[38;5;28;01mimport\u001b[39;00m StringType\n\u001b[1;32m      3\u001b[0m \u001b[38;5;66;03m# Ensure the below library is installed on your cluster\u001b[39;00m\n\u001b[0;32m----> 4\u001b[0m \u001b[38;5;28;01mimport\u001b[39;00m \u001b[38;5;21;01mreverse_geocoder\u001b[39;00m \u001b[38;5;28;01mas\u001b[39;00m \u001b[38;5;21;01mrg\u001b[39;00m\n\u001b[1;32m      5\u001b[0m \u001b[38;5;28;01mfrom\u001b[39;00m \u001b[38;5;21;01mdatetime\u001b[39;00m \u001b[38;5;28;01mimport\u001b[39;00m date, timedelta\n",
            "\u001b[0;31mModuleNotFoundError\u001b[0m: No module named 'reverse_geocoder'"
          ]
        }
      ],
      "execution_count": 6,
      "metadata": {
        "application/vnd.databricks.v1+cell": {
          "cellMetadata": {
            "byteLimit": 2048000,
            "rowLimit": 10000
          },
          "inputWidgets": {},
          "nuid": "e44e2d7b-08e7-41b0-a110-5f9cc0643077",
          "showTitle": false,
          "tableResultSettingsMap": {},
          "title": ""
        }
      }
    },
    {
      "cell_type": "code",
      "source": [
        "df = spark.read.parquet(silver_data).filter(col('time') > start_date)"
      ],
      "outputs": [
        {
          "output_type": "display_data",
          "data": {
            "application/vnd.livy.statement-meta+json": {
              "spark_pool": null,
              "statement_id": null,
              "statement_ids": null,
              "state": "cancelled",
              "livy_statement_state": null,
              "spark_jobs": null,
              "session_id": null,
              "normalized_state": "cancelled",
              "queued_time": "2025-01-12T10:57:46.2908628Z",
              "session_start_time": null,
              "execution_start_time": null,
              "execution_finish_time": "2025-01-12T10:57:47.1624483Z",
              "parent_msg_id": "a0ae0a2a-f446-4fa6-ade1-6f878621874d"
            },
            "text/plain": "StatementMeta(, , , Cancelled, , Cancelled)"
          },
          "metadata": {}
        }
      ],
      "execution_count": null,
      "metadata": {
        "application/vnd.databricks.v1+cell": {
          "cellMetadata": {
            "byteLimit": 2048000,
            "rowLimit": 10000
          },
          "inputWidgets": {},
          "nuid": "45dca249-dfb5-4dc8-bd87-f9f0a0eea794",
          "showTitle": false,
          "tableResultSettingsMap": {},
          "title": ""
        }
      }
    },
    {
      "cell_type": "code",
      "source": [
        "df = df.limit(10) # added to speed up processings as during testing it was proving a bottleneck\n",
        "# The problem is caused by the Python UDF (reverse_geocoder) being a bottleneck due to its non-parallel nature and high computational cost per task"
      ],
      "outputs": [
        {
          "output_type": "display_data",
          "data": {
            "application/vnd.livy.statement-meta+json": {
              "spark_pool": null,
              "statement_id": null,
              "statement_ids": null,
              "state": "cancelled",
              "livy_statement_state": null,
              "spark_jobs": null,
              "session_id": null,
              "normalized_state": "cancelled",
              "queued_time": "2025-01-12T10:57:46.3809341Z",
              "session_start_time": null,
              "execution_start_time": null,
              "execution_finish_time": "2025-01-12T10:57:47.16317Z",
              "parent_msg_id": "1da2f090-147a-47a0-92ac-bdca5a9b4639"
            },
            "text/plain": "StatementMeta(, , , Cancelled, , Cancelled)"
          },
          "metadata": {}
        }
      ],
      "execution_count": null,
      "metadata": {
        "application/vnd.databricks.v1+cell": {
          "cellMetadata": {
            "byteLimit": 2048000,
            "rowLimit": 10000
          },
          "inputWidgets": {},
          "nuid": "7bc3fae0-974b-455e-a9c9-8c0ee218fc6e",
          "showTitle": false,
          "tableResultSettingsMap": {},
          "title": ""
        }
      }
    },
    {
      "cell_type": "code",
      "source": [
        "def get_country_code(lat, lon):\n",
        "    \"\"\"\n",
        "    Retrieve the country code for a given latitude and longitude.\n",
        "\n",
        "    Parameters:\n",
        "    lat (float or str): Latitude of the location.\n",
        "    lon (float or str): Longitude of the location.\n",
        "\n",
        "    Returns:\n",
        "    str: Country code of the location, retrieved using the reverse geocoding API.\n",
        "\n",
        "    Example:\n",
        "    >>> get_country_details(48.8588443, 2.2943506)\n",
        "    'FR'\n",
        "    \"\"\"\n",
        "    try:\n",
        "        coordinates = (float(lat), float(lon))\n",
        "        result = rg.search(coordinates)[0].get('cc')\n",
        "        print(f\"Processed coordinates: {coordinates} -> {result}\")\n",
        "        return result\n",
        "    except Exception as e:\n",
        "        print(f\"Error processing coordinates: {lat}, {lon} -> {str(e)}\")\n",
        "        return None"
      ],
      "outputs": [
        {
          "output_type": "display_data",
          "data": {
            "application/vnd.livy.statement-meta+json": {
              "spark_pool": null,
              "statement_id": null,
              "statement_ids": null,
              "state": "cancelled",
              "livy_statement_state": null,
              "spark_jobs": null,
              "session_id": null,
              "normalized_state": "cancelled",
              "queued_time": "2025-01-12T10:57:46.4109299Z",
              "session_start_time": null,
              "execution_start_time": null,
              "execution_finish_time": "2025-01-12T10:57:47.1638984Z",
              "parent_msg_id": "7a87d68b-f90f-498d-9bbc-bbd7f75107d8"
            },
            "text/plain": "StatementMeta(, , , Cancelled, , Cancelled)"
          },
          "metadata": {}
        }
      ],
      "execution_count": null,
      "metadata": {
        "application/vnd.databricks.v1+cell": {
          "cellMetadata": {
            "byteLimit": 2048000,
            "rowLimit": 10000
          },
          "inputWidgets": {},
          "nuid": "3c807d0e-1f0f-4113-be4f-414406a7bd4d",
          "showTitle": false,
          "tableResultSettingsMap": {},
          "title": ""
        }
      }
    },
    {
      "cell_type": "code",
      "source": [
        "# registering the udfs so they can be used on spark dataframes\n",
        "get_country_code_udf = udf(get_country_code, StringType())"
      ],
      "outputs": [
        {
          "output_type": "display_data",
          "data": {
            "application/vnd.livy.statement-meta+json": {
              "spark_pool": null,
              "statement_id": null,
              "statement_ids": null,
              "state": "cancelled",
              "livy_statement_state": null,
              "spark_jobs": null,
              "session_id": null,
              "normalized_state": "cancelled",
              "queued_time": "2025-01-12T10:57:46.4618023Z",
              "session_start_time": null,
              "execution_start_time": null,
              "execution_finish_time": "2025-01-12T10:57:47.1645883Z",
              "parent_msg_id": "75fa9d0c-c21a-4699-8698-ddc44d3f87ee"
            },
            "text/plain": "StatementMeta(, , , Cancelled, , Cancelled)"
          },
          "metadata": {}
        }
      ],
      "execution_count": null,
      "metadata": {
        "application/vnd.databricks.v1+cell": {
          "cellMetadata": {
            "byteLimit": 2048000,
            "rowLimit": 10000
          },
          "inputWidgets": {},
          "nuid": "f50a8441-ae75-4ce7-beb5-6329bf365055",
          "showTitle": false,
          "tableResultSettingsMap": {},
          "title": ""
        }
      }
    },
    {
      "cell_type": "code",
      "source": [
        "get_country_code(48.8588443, 2.2943506)"
      ],
      "outputs": [
        {
          "output_type": "display_data",
          "data": {
            "application/vnd.livy.statement-meta+json": {
              "spark_pool": null,
              "statement_id": null,
              "statement_ids": null,
              "state": "cancelled",
              "livy_statement_state": null,
              "spark_jobs": null,
              "session_id": null,
              "normalized_state": "cancelled",
              "queued_time": "2025-01-12T10:57:46.5107425Z",
              "session_start_time": null,
              "execution_start_time": null,
              "execution_finish_time": "2025-01-12T10:57:47.1653436Z",
              "parent_msg_id": "b0adb5e4-ffcb-40fc-9857-33699c6b11e3"
            },
            "text/plain": "StatementMeta(, , , Cancelled, , Cancelled)"
          },
          "metadata": {}
        }
      ],
      "execution_count": null,
      "metadata": {
        "application/vnd.databricks.v1+cell": {
          "cellMetadata": {
            "byteLimit": 2048000,
            "rowLimit": 10000
          },
          "inputWidgets": {},
          "nuid": "7a1cfc01-2afa-4c93-839c-55f9553c5b77",
          "showTitle": false,
          "tableResultSettingsMap": {},
          "title": ""
        }
      }
    },
    {
      "cell_type": "code",
      "source": [
        "# adding country_code and city attributes\n",
        "df_with_location = \\\n",
        "                df.\\\n",
        "                    withColumn(\"country_code\", get_country_code_udf(col(\"latitude\"), col(\"longitude\")))"
      ],
      "outputs": [
        {
          "output_type": "display_data",
          "data": {
            "application/vnd.livy.statement-meta+json": {
              "spark_pool": null,
              "statement_id": null,
              "statement_ids": null,
              "state": "cancelled",
              "livy_statement_state": null,
              "spark_jobs": null,
              "session_id": null,
              "normalized_state": "cancelled",
              "queued_time": "2025-01-12T10:57:46.5408237Z",
              "session_start_time": null,
              "execution_start_time": null,
              "execution_finish_time": "2025-01-12T10:57:47.1660609Z",
              "parent_msg_id": "21480285-5a73-47fd-9118-22484264bd0f"
            },
            "text/plain": "StatementMeta(, , , Cancelled, , Cancelled)"
          },
          "metadata": {}
        }
      ],
      "execution_count": null,
      "metadata": {
        "application/vnd.databricks.v1+cell": {
          "cellMetadata": {
            "byteLimit": 2048000,
            "rowLimit": 10000
          },
          "inputWidgets": {},
          "nuid": "e593bd05-422f-44bb-9848-35a5c317eb81",
          "showTitle": false,
          "tableResultSettingsMap": {},
          "title": ""
        }
      }
    },
    {
      "cell_type": "code",
      "source": [
        "df.printSchema()"
      ],
      "outputs": [
        {
          "output_type": "display_data",
          "data": {
            "application/vnd.livy.statement-meta+json": {
              "spark_pool": null,
              "statement_id": null,
              "statement_ids": null,
              "state": "cancelled",
              "livy_statement_state": null,
              "spark_jobs": null,
              "session_id": null,
              "normalized_state": "cancelled",
              "queued_time": "2025-01-12T10:57:46.5996484Z",
              "session_start_time": null,
              "execution_start_time": null,
              "execution_finish_time": "2025-01-12T10:57:47.1669088Z",
              "parent_msg_id": "2c1327a8-e177-43d0-82f5-ebed78b4eabe"
            },
            "text/plain": "StatementMeta(, , , Cancelled, , Cancelled)"
          },
          "metadata": {}
        }
      ],
      "execution_count": null,
      "metadata": {
        "application/vnd.databricks.v1+cell": {
          "cellMetadata": {
            "byteLimit": 2048000,
            "rowLimit": 10000
          },
          "inputWidgets": {},
          "nuid": "f58201f5-2b42-4fab-add5-f6f1d733c6c5",
          "showTitle": false,
          "tableResultSettingsMap": {},
          "title": ""
        }
      }
    },
    {
      "cell_type": "code",
      "source": [
        "df_with_location.printSchema()"
      ],
      "outputs": [
        {
          "output_type": "display_data",
          "data": {
            "application/vnd.livy.statement-meta+json": {
              "spark_pool": null,
              "statement_id": null,
              "statement_ids": null,
              "state": "cancelled",
              "livy_statement_state": null,
              "spark_jobs": null,
              "session_id": null,
              "normalized_state": "cancelled",
              "queued_time": "2025-01-12T10:57:46.6509156Z",
              "session_start_time": null,
              "execution_start_time": null,
              "execution_finish_time": "2025-01-12T10:57:47.1682616Z",
              "parent_msg_id": "ad72f75c-03b4-4904-ab0a-82ad77a05f00"
            },
            "text/plain": "StatementMeta(, , , Cancelled, , Cancelled)"
          },
          "metadata": {}
        }
      ],
      "execution_count": null,
      "metadata": {
        "application/vnd.databricks.v1+cell": {
          "cellMetadata": {
            "byteLimit": 2048000,
            "rowLimit": 10000
          },
          "inputWidgets": {},
          "nuid": "c933dd90-30e5-4c69-b61c-ae3ada39f8b0",
          "showTitle": false,
          "tableResultSettingsMap": {},
          "title": ""
        }
      }
    },
    {
      "cell_type": "code",
      "source": [
        "# adding significance classification\n",
        "df_with_location_sig_class = \\\n",
        "                            df_with_location.\\\n",
        "                                withColumn('sig_class', \n",
        "                                            when(col(\"sig\") < 100, \"Low\").\\\n",
        "                                            when((col(\"sig\") >= 100) & (col(\"sig\") < 500), \"Moderate\").\\\n",
        "                                            otherwise(\"High\")\n",
        "                                            )"
      ],
      "outputs": [
        {
          "output_type": "display_data",
          "data": {
            "application/vnd.livy.statement-meta+json": {
              "spark_pool": null,
              "statement_id": null,
              "statement_ids": null,
              "state": "cancelled",
              "livy_statement_state": null,
              "spark_jobs": null,
              "session_id": null,
              "normalized_state": "cancelled",
              "queued_time": "2025-01-12T10:57:46.701675Z",
              "session_start_time": null,
              "execution_start_time": null,
              "execution_finish_time": "2025-01-12T10:57:47.1694454Z",
              "parent_msg_id": "9066c05a-b069-4998-a3a2-2053f9c8dd67"
            },
            "text/plain": "StatementMeta(, , , Cancelled, , Cancelled)"
          },
          "metadata": {}
        }
      ],
      "execution_count": null,
      "metadata": {
        "application/vnd.databricks.v1+cell": {
          "cellMetadata": {
            "byteLimit": 2048000,
            "rowLimit": 10000
          },
          "inputWidgets": {},
          "nuid": "a2034f97-d2cd-446a-abfd-6824a549e8b5",
          "showTitle": false,
          "tableResultSettingsMap": {},
          "title": ""
        }
      }
    },
    {
      "cell_type": "code",
      "source": [
        "df_with_location_sig_class.printSchema()"
      ],
      "outputs": [
        {
          "output_type": "display_data",
          "data": {
            "application/vnd.livy.statement-meta+json": {
              "spark_pool": null,
              "statement_id": null,
              "statement_ids": null,
              "state": "cancelled",
              "livy_statement_state": null,
              "spark_jobs": null,
              "session_id": null,
              "normalized_state": "cancelled",
              "queued_time": "2025-01-12T10:57:46.750964Z",
              "session_start_time": null,
              "execution_start_time": null,
              "execution_finish_time": "2025-01-12T10:57:47.1704039Z",
              "parent_msg_id": "2499313d-6fe4-4de5-b13d-2c2506af8d71"
            },
            "text/plain": "StatementMeta(, , , Cancelled, , Cancelled)"
          },
          "metadata": {}
        }
      ],
      "execution_count": null,
      "metadata": {
        "application/vnd.databricks.v1+cell": {
          "cellMetadata": {},
          "inputWidgets": {},
          "nuid": "1dc0d3e9-e17f-4194-8821-2b3936907c7a",
          "showTitle": false,
          "tableResultSettingsMap": {},
          "title": ""
        }
      }
    },
    {
      "cell_type": "code",
      "source": [
        "# Save the transformed DataFrame to the Silver container\n",
        "gold_output_path = f\"{gold_adls}earthquake_events_gold/\""
      ],
      "outputs": [
        {
          "output_type": "display_data",
          "data": {
            "application/vnd.livy.statement-meta+json": {
              "spark_pool": null,
              "statement_id": null,
              "statement_ids": null,
              "state": "cancelled",
              "livy_statement_state": null,
              "spark_jobs": null,
              "session_id": null,
              "normalized_state": "cancelled",
              "queued_time": "2025-01-12T10:57:46.7967961Z",
              "session_start_time": null,
              "execution_start_time": null,
              "execution_finish_time": "2025-01-12T10:57:47.1718265Z",
              "parent_msg_id": "7d32b803-fb82-46eb-8725-ec148f9fcd0a"
            },
            "text/plain": "StatementMeta(, , , Cancelled, , Cancelled)"
          },
          "metadata": {}
        }
      ],
      "execution_count": null,
      "metadata": {
        "application/vnd.databricks.v1+cell": {
          "cellMetadata": {
            "byteLimit": 2048000,
            "rowLimit": 10000
          },
          "inputWidgets": {},
          "nuid": "04a6b456-4afb-41de-b58e-ca6a6bb93d71",
          "showTitle": false,
          "tableResultSettingsMap": {},
          "title": ""
        }
      }
    },
    {
      "cell_type": "code",
      "source": [
        "# Append DataFrame to Silver container in Parquet format\n",
        "df_with_location_sig_class.write.mode('append').parquet(gold_output_path)"
      ],
      "outputs": [
        {
          "output_type": "display_data",
          "data": {
            "application/vnd.livy.statement-meta+json": {
              "spark_pool": null,
              "statement_id": null,
              "statement_ids": null,
              "state": "cancelled",
              "livy_statement_state": null,
              "spark_jobs": null,
              "session_id": null,
              "normalized_state": "cancelled",
              "queued_time": "2025-01-12T10:57:46.8610606Z",
              "session_start_time": null,
              "execution_start_time": null,
              "execution_finish_time": "2025-01-12T10:57:47.1729246Z",
              "parent_msg_id": "dda3f384-d583-49fa-b5fb-218a2f6b6ddd"
            },
            "text/plain": "StatementMeta(, , , Cancelled, , Cancelled)"
          },
          "metadata": {}
        }
      ],
      "execution_count": null,
      "metadata": {
        "application/vnd.databricks.v1+cell": {
          "cellMetadata": {
            "byteLimit": 2048000,
            "rowLimit": 10000
          },
          "inputWidgets": {},
          "nuid": "cbf34037-e51e-4686-bb97-d535c4f29893",
          "showTitle": false,
          "tableResultSettingsMap": {},
          "title": ""
        }
      }
    }
  ],
  "metadata": {
    "language_info": {
      "name": "python"
    },
    "kernelspec": {
      "name": "synapse_pyspark",
      "display_name": "python"
    },
    "description": null,
    "save_output": true,
    "synapse_widget": {
      "version": "0.1",
      "state": {}
    }
  },
  "nbformat": 4,
  "nbformat_minor": 2
}
