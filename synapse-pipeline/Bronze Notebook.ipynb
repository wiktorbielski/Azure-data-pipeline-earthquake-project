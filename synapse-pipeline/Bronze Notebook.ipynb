{
  "cells": [
    {
      "cell_type": "code",
      "source": [
        "# Mount ADLS Gen2\n",
        "# Required each time the cluster is restarted which should be only on the first notebook as they run in order\n",
        "\n",
        "tiers = [\"bronze\", \"silver\", \"gold\"]\n",
        "adls_paths = {tier: f\"abfss://{tier}@synonly.dfs.core.windows.net/\" for tier in tiers}\n",
        "\n",
        "# Accessing paths\n",
        "bronze_adls = adls_paths[\"bronze\"]\n",
        "silver_adls = adls_paths[\"silver\"]\n",
        "gold_adls = adls_paths[\"gold\"] "
      ],
      "outputs": [],
      "execution_count": null,
      "metadata": {
        "application/vnd.databricks.v1+cell": {
          "cellMetadata": {
            "byteLimit": 2048000,
            "rowLimit": 10000
          },
          "inputWidgets": {},
          "nuid": "33a157a8-3a04-4872-8c6a-fe65d32ac5be",
          "showTitle": false,
          "tableResultSettingsMap": {},
          "title": ""
        }
      }
    },
    {
      "cell_type": "code",
      "source": [
        "files = mssparkutils.fs.ls(bronze_adls)\n",
        "for file in files:\n",
        "    print(file.name, file.isDir, file.isFile, file.path, file.size, file.modifyTime)"
      ],
      "outputs": [],
      "execution_count": null,
      "metadata": {
        "jupyter": {
          "source_hidden": false,
          "outputs_hidden": false
        },
        "nteract": {
          "transient": {
            "deleting": false
          }
        }
      }
    },
    {
      "cell_type": "code",
      "source": [
        "import requests\n",
        "import json\n",
        "from datetime import date, timedelta"
      ],
      "outputs": [],
      "execution_count": null,
      "metadata": {
        "application/vnd.databricks.v1+cell": {
          "cellMetadata": {
            "byteLimit": 2048000,
            "rowLimit": 10000
          },
          "inputWidgets": {},
          "nuid": "6ab2b310-be20-4a1c-b30b-eaf20e264856",
          "showTitle": false,
          "tableResultSettingsMap": {},
          "title": ""
        }
      }
    },
    {
      "cell_type": "code",
      "source": [
        "# Remove this before running Data Factory Pipeline\n",
        "start_date = date.today() - timedelta(1)\n",
        "end_date = date.today()"
      ],
      "outputs": [],
      "execution_count": null,
      "metadata": {
        "application/vnd.databricks.v1+cell": {
          "cellMetadata": {
            "byteLimit": 2048000,
            "rowLimit": 10000
          },
          "inputWidgets": {},
          "nuid": "a757f9e2-d8a6-479a-978d-02858e2cd002",
          "showTitle": false,
          "tableResultSettingsMap": {},
          "title": ""
        }
      }
    },
    {
      "cell_type": "code",
      "source": [
        "start_date, end_date"
      ],
      "outputs": [],
      "execution_count": null,
      "metadata": {
        "application/vnd.databricks.v1+cell": {
          "cellMetadata": {
            "byteLimit": 2048000,
            "rowLimit": 10000
          },
          "inputWidgets": {},
          "nuid": "59f14724-3229-4aca-a288-2848e0cb7af9",
          "showTitle": false,
          "tableResultSettingsMap": {},
          "title": ""
        }
      }
    },
    {
      "cell_type": "code",
      "source": [
        "# Construct the API URL with start and end dates provided by Data Factory\n",
        "url = f\"https://earthquake.usgs.gov/fdsnws/event/1/query?format=geojson&starttime={start_date}&endtime={end_date}\"\n",
        "\n",
        "try:\n",
        "    # Make the GET request to fetch data\n",
        "    response = requests.get(url)\n",
        "\n",
        "    # Check if the request was successful\n",
        "    response.raise_for_status()  # Raise HTTPError for bad responses (4xx or 5xx)\n",
        "    data = response.json().get('features', [])\n",
        "\n",
        "    if not data:\n",
        "        print(\"No data returned for the specified date range.\")\n",
        "    else:\n",
        "        # Specify the ADLS path\n",
        "        file_path = f\"{bronze_adls}/{start_date}_earthquake_data.json\"\n",
        "\n",
        "        # Convert data to JSON string\n",
        "        json_data = json.dumps(data, indent=4)\n",
        "\n",
        "        # Write the JSON data to ADLS\n",
        "        # Create an RDD with the JSON string and parallelize it\n",
        "        rdd = spark.sparkContext.parallelize([json_data])\n",
        "\n",
        "        # Convert RDD to DataFrame and write to ADLS\n",
        "        df = spark.read.json(rdd)\n",
        "        df.limit(3) # To speed up processing for tutorial\n",
        "        df.write.mode(\"overwrite\").json(file_path)\n",
        "\n",
        "        print(f\"Data successfully saved to {file_path}\")\n",
        "except requests.exceptions.RequestException as e:\n",
        "    print(f\"Error fetching data from API: {e}\")"
      ],
      "outputs": [],
      "execution_count": null,
      "metadata": {
        "application/vnd.databricks.v1+cell": {
          "cellMetadata": {
            "byteLimit": 2048000,
            "rowLimit": 10000
          },
          "inputWidgets": {},
          "nuid": "15ed39c1-a920-4099-9154-87281518cd5b",
          "showTitle": false,
          "tableResultSettingsMap": {},
          "title": ""
        }
      }
    },
    {
      "cell_type": "code",
      "source": [
        "data[0]"
      ],
      "outputs": [],
      "execution_count": null,
      "metadata": {
        "application/vnd.databricks.v1+cell": {
          "cellMetadata": {
            "byteLimit": 2048000,
            "rowLimit": 10000
          },
          "inputWidgets": {},
          "nuid": "e532e44d-3964-4450-a6b1-ca1b25b05354",
          "showTitle": false,
          "tableResultSettingsMap": {},
          "title": ""
        }
      }
    },
    {
      "cell_type": "code",
      "source": [
        "import json\n",
        "\n",
        "# Define your variables\n",
        "output_data = {\n",
        "    \"start_date\": start_date.isoformat(),\n",
        "    \"bronze_adls\": bronze_adls,\n",
        "    \"silver_adls\": silver_adls,\n",
        "    \"gold_adls\": gold_adls\n",
        "}\n",
        "\n",
        "# Serialize the dictionary to a JSON string\n",
        "bronze_output = json.dumps(output_data)\n",
        "\n",
        "# Use mssparkutils.notebook.exit() to pass the JSON output to the pipeline\n",
        "mssparkutils.notebook.exit(bronze_output)"
      ],
      "outputs": [],
      "execution_count": null,
      "metadata": {
        "application/vnd.databricks.v1+cell": {
          "cellMetadata": {
            "byteLimit": 2048000,
            "rowLimit": 10000
          },
          "inputWidgets": {},
          "nuid": "6ea66672-cf5a-4ae3-909f-72a0a8ce3a65",
          "showTitle": false,
          "tableResultSettingsMap": {},
          "title": ""
        }
      }
    }
  ],
  "metadata": {
    "language_info": {
      "name": "python"
    },
    "kernelspec": {
      "name": "synapse_pyspark",
      "language": "Python",
      "display_name": "Synapse PySpark"
    },
    "kernel_info": {
      "name": "synapse_pyspark"
    },
    "description": null,
    "save_output": true,
    "synapse_widget": {
      "version": "0.1",
      "state": {}
    }
  },
  "nbformat": 4,
  "nbformat_minor": 2
}
