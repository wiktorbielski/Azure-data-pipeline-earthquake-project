{
  "cells": [
    {
      "cell_type": "code",
      "source": [
        "import json\n",
        "\n",
        "# Access parameters directly\n",
        "bronze_output = \"\""
      ],
      "outputs": [],
      "execution_count": null,
      "metadata": {
        "jupyter": {
          "source_hidden": false,
          "outputs_hidden": false
        },
        "nteract": {
          "transient": {
            "deleting": false
          }
        },
        "tags": [
          "parameters"
        ]
      }
    },
    {
      "cell_type": "code",
      "source": [
        "# Parse the JSON string\n",
        "output_data = json.loads(bronze_output)\n",
        "\n",
        "# Access individual variables\n",
        "start_date = output_data.get(\"start_date\")\n",
        "silver_adls = output_data.get(\"silver_adls\")\n",
        "bronze_adls = output_data.get(\"bronze_adls\")\n",
        "\n",
        "print(f\"Start Date: {start_date}\")\n",
        "print(f\"Silver ADLS: {silver_adls}\")\n",
        "print(f\"Bronze ADLS: {bronze_adls}\")"
      ],
      "outputs": [],
      "execution_count": null,
      "metadata": {
        "jupyter": {
          "source_hidden": false,
          "outputs_hidden": false
        },
        "nteract": {
          "transient": {
            "deleting": false
          }
        }
      }
    },
    {
      "cell_type": "code",
      "source": [
        "''' from datetime import date, timedelta\n",
        "\n",
        "# Remove this before running Data Factory Pipeline\n",
        "start_date = bronze_output[]\n",
        "\n",
        "bronze_adls = \"abfss://bronze@synonly.dfs.core.windows.net/\"\n",
        "silver_adls = \"abfss://silver@synonly.dfs.core.windows.net/\"\n",
        "'''"
      ],
      "outputs": [],
      "execution_count": null,
      "metadata": {
        "application/vnd.databricks.v1+cell": {
          "cellMetadata": {
            "byteLimit": 2048000,
            "rowLimit": 10000
          },
          "inputWidgets": {},
          "nuid": "ac06ba16-db9d-4864-9d82-ea20f734d452",
          "showTitle": false,
          "tableResultSettingsMap": {},
          "title": ""
        },
        "tags": []
      }
    },
    {
      "cell_type": "code",
      "source": [
        "from pyspark.sql.functions import col, isnull, when\n",
        "from pyspark.sql.types import TimestampType\n",
        "from datetime import date, timedelta"
      ],
      "outputs": [],
      "execution_count": null,
      "metadata": {
        "application/vnd.databricks.v1+cell": {
          "cellMetadata": {
            "byteLimit": 2048000,
            "rowLimit": 10000
          },
          "inputWidgets": {},
          "nuid": "78f3ec41-67d6-43e4-be7b-fff8c913b983",
          "showTitle": false,
          "tableResultSettingsMap": {},
          "title": ""
        }
      }
    },
    {
      "cell_type": "code",
      "source": [
        "# Load the JSON data into a Spark DataFrame\n",
        "df = spark.read.option(\"multiline\", \"true\").json(f\"{bronze_adls}{start_date}_earthquake_data.json\")"
      ],
      "outputs": [],
      "execution_count": null,
      "metadata": {
        "application/vnd.databricks.v1+cell": {
          "cellMetadata": {
            "byteLimit": 2048000,
            "rowLimit": 10000
          },
          "inputWidgets": {},
          "nuid": "75eaa9de-a294-474e-b485-6862f0a2aff2",
          "showTitle": false,
          "tableResultSettingsMap": {},
          "title": ""
        }
      }
    },
    {
      "cell_type": "code",
      "source": [
        "df"
      ],
      "outputs": [],
      "execution_count": null,
      "metadata": {
        "application/vnd.databricks.v1+cell": {
          "cellMetadata": {
            "byteLimit": 2048000,
            "rowLimit": 10000
          },
          "inputWidgets": {},
          "nuid": "9dfbf91f-6a36-42c6-b3a5-4f6222b9cdb0",
          "showTitle": false,
          "tableResultSettingsMap": {},
          "title": ""
        }
      }
    },
    {
      "cell_type": "code",
      "source": [
        "df.head()"
      ],
      "outputs": [],
      "execution_count": null,
      "metadata": {
        "application/vnd.databricks.v1+cell": {
          "cellMetadata": {
            "byteLimit": 2048000,
            "rowLimit": 10000
          },
          "inputWidgets": {},
          "nuid": "08a12191-5d65-4409-a17b-dc13721db2a3",
          "showTitle": false,
          "tableResultSettingsMap": {},
          "title": ""
        }
      }
    },
    {
      "cell_type": "code",
      "source": [
        "# Reshape earthquake data\n",
        "df = (\n",
        "    df\n",
        "    .select(\n",
        "        'id',\n",
        "        col('geometry.coordinates').getItem(0).alias('longitude'),\n",
        "        col('geometry.coordinates').getItem(1).alias('latitude'),\n",
        "        col('geometry.coordinates').getItem(2).alias('elevation'),\n",
        "        col('properties.title').alias('title'),\n",
        "        col('properties.place').alias('place_description'),\n",
        "        col('properties.sig').alias('sig'),\n",
        "        col('properties.mag').alias('mag'),\n",
        "        col('properties.magType').alias('magType'),\n",
        "        col('properties.time').alias('time'),\n",
        "        col('properties.updated').alias('updated')\n",
        "    )\n",
        ")"
      ],
      "outputs": [],
      "execution_count": null,
      "metadata": {
        "application/vnd.databricks.v1+cell": {
          "cellMetadata": {
            "byteLimit": 2048000,
            "rowLimit": 10000
          },
          "inputWidgets": {},
          "nuid": "2f477bf7-aa46-4d2d-bbbd-83dff93028bd",
          "showTitle": false,
          "tableResultSettingsMap": {},
          "title": ""
        }
      }
    },
    {
      "cell_type": "code",
      "source": [
        "df"
      ],
      "outputs": [],
      "execution_count": null,
      "metadata": {
        "application/vnd.databricks.v1+cell": {
          "cellMetadata": {
            "byteLimit": 2048000,
            "rowLimit": 10000
          },
          "inputWidgets": {},
          "nuid": "fb1bc1b6-d0fd-4e3c-bfa0-87e38c3cd27b",
          "showTitle": false,
          "tableResultSettingsMap": {},
          "title": ""
        }
      }
    },
    {
      "cell_type": "code",
      "source": [
        "df.head()"
      ],
      "outputs": [],
      "execution_count": null,
      "metadata": {
        "application/vnd.databricks.v1+cell": {
          "cellMetadata": {
            "byteLimit": 2048000,
            "rowLimit": 10000
          },
          "inputWidgets": {},
          "nuid": "a6bf076c-dfa6-4dc5-82bd-7bb9beeab778",
          "showTitle": false,
          "tableResultSettingsMap": {},
          "title": ""
        }
      }
    },
    {
      "cell_type": "code",
      "source": [
        "# Validate data: Check for missing or null values\n",
        "df = (\n",
        "    df\n",
        "    .withColumn('longitude', when(isnull(col('longitude')), 0).otherwise(col('longitude')))\n",
        "    .withColumn('latitude', when(isnull(col('latitude')), 0).otherwise(col('latitude')))\n",
        "    .withColumn('time', when(isnull(col('time')), 0).otherwise(col('time')))\n",
        ")"
      ],
      "outputs": [],
      "execution_count": null,
      "metadata": {
        "application/vnd.databricks.v1+cell": {
          "cellMetadata": {
            "byteLimit": 2048000,
            "rowLimit": 10000
          },
          "inputWidgets": {},
          "nuid": "9ed13efd-7651-49a1-9591-54eccada4f38",
          "showTitle": false,
          "tableResultSettingsMap": {},
          "title": ""
        }
      }
    },
    {
      "cell_type": "code",
      "source": [
        "# Convert 'time' and 'updated' to timestamp from Unix time\n",
        "df = (\n",
        "    df\n",
        "    .withColumn('time', (col('time') / 1000).cast(TimestampType()))\n",
        "    .withColumn('updated', (col('updated') / 1000).cast(TimestampType()))\n",
        ")"
      ],
      "outputs": [],
      "execution_count": null,
      "metadata": {
        "application/vnd.databricks.v1+cell": {
          "cellMetadata": {
            "byteLimit": 2048000,
            "rowLimit": 10000
          },
          "inputWidgets": {},
          "nuid": "23e4bf83-507d-444b-b315-49287e79dc71",
          "showTitle": false,
          "tableResultSettingsMap": {},
          "title": ""
        }
      }
    },
    {
      "cell_type": "code",
      "source": [
        "df.head()"
      ],
      "outputs": [],
      "execution_count": null,
      "metadata": {
        "application/vnd.databricks.v1+cell": {
          "cellMetadata": {
            "byteLimit": 2048000,
            "rowLimit": 10000
          },
          "inputWidgets": {},
          "nuid": "fc2f0d46-95b0-42d5-8655-4dc90860b00c",
          "showTitle": false,
          "tableResultSettingsMap": {},
          "title": ""
        }
      }
    },
    {
      "cell_type": "code",
      "source": [
        "# Save the transformed DataFrame to the Silver container\n",
        "silver_data = f\"{silver_adls}earthquake_events_silver/\""
      ],
      "outputs": [],
      "execution_count": null,
      "metadata": {
        "application/vnd.databricks.v1+cell": {
          "cellMetadata": {},
          "inputWidgets": {},
          "nuid": "21b7e5d1-12de-4afa-b4f1-13b5c66dc75d",
          "showTitle": false,
          "tableResultSettingsMap": {},
          "title": ""
        }
      }
    },
    {
      "cell_type": "code",
      "source": [
        "# Append DataFrame to Silver container in Parquet format\n",
        "df.write.mode('append').parquet(silver_data)"
      ],
      "outputs": [],
      "execution_count": null,
      "metadata": {
        "application/vnd.databricks.v1+cell": {
          "cellMetadata": {},
          "inputWidgets": {},
          "nuid": "c6d79f24-e7c7-4a8a-a936-9d4dc9e151a3",
          "showTitle": false,
          "tableResultSettingsMap": {},
          "title": ""
        }
      }
    },
    {
      "cell_type": "code",
      "source": [
        "mssparkutils.notebook.exit(silver_data)"
      ],
      "outputs": [],
      "execution_count": null,
      "metadata": {
        "application/vnd.databricks.v1+cell": {
          "cellMetadata": {},
          "inputWidgets": {},
          "nuid": "23e0c26a-163d-4519-b11d-e86c2d15446d",
          "showTitle": false,
          "tableResultSettingsMap": {},
          "title": ""
        }
      }
    },
    {
      "cell_type": "markdown",
      "source": [],
      "metadata": {
        "nteract": {
          "transient": {
            "deleting": false
          }
        }
      }
    }
  ],
  "metadata": {
    "kernelspec": {
      "name": "synapse_pyspark",
      "language": "Python",
      "display_name": "Synapse PySpark"
    },
    "language_info": {
      "name": "python"
    },
    "kernel_info": {
      "name": "synapse_pyspark"
    },
    "description": null,
    "save_output": true,
    "synapse_widget": {
      "version": "0.1",
      "state": {}
    }
  },
  "nbformat": 4,
  "nbformat_minor": 2
}
